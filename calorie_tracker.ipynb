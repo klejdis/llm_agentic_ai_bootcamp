{
 "cells": [
  {
   "cell_type": "code",
   "execution_count": 36,
   "id": "3bae14d7-816d-4c66-8936-703c35bcbb3e",
   "metadata": {},
   "outputs": [],
   "source": [
    "from openai import OpenAI\n",
    "import os\n",
    "import io\n",
    "import base64\n",
    "from dotenv import load_dotenv\n",
    "load_dotenv()\n",
    "openai_api_key = os.getenv(\"OPENAI_API_KEY\")\n",
    "openai_client = OpenAI(api_key=openai_api_key)\n"
   ]
  },
  {
   "cell_type": "code",
   "execution_count": 37,
   "id": "8ce1ea68-41c0-4413-a4ea-0f9ae9a1d895",
   "metadata": {},
   "outputs": [
    {
     "name": "stdout",
     "output_type": "stream",
     "text": [
      "size: (1500, 1125)\n",
      "mode: RGB\n",
      "format: JPEG\n"
     ]
    }
   ],
   "source": [
    "from PIL import Image\n",
    "\n",
    "salmon_image = Image.open(\"images/salmon.jpg\")\n",
    "print(f\"size: {salmon_image.size}\")\n",
    "print(f\"mode: {salmon_image.mode}\")\n",
    "print(f\"format: {salmon_image.format}\")\n",
    "\n"
   ]
  },
  {
   "cell_type": "code",
   "execution_count": 61,
   "id": "ce45b3f8-6a0a-4772-8f49-0d05575046fd",
   "metadata": {},
   "outputs": [],
   "source": [
    "\n",
    "def encode_image_to_base64(image_input, format=\"JPEG\"):\n",
    "    \"\"\"\n",
    "    Encodes an image to a Base64 string.\n",
    "\n",
    "    :param image_input: Either a file path (str) or a PIL.Image.Image instance\n",
    "    :param format: Format to use when encoding a PIL image (default: 'PNG')\n",
    "    :return: Base64 encoded string\n",
    "    \"\"\"\n",
    "    if isinstance(image_input, str):\n",
    "        # It's a file path\n",
    "        with open(image_input, \"rb\") as f:\n",
    "            encoded_string = base64.b64encode(f.read()).decode(\"utf-8\")\n",
    "    elif isinstance(image_input, Image.Image):\n",
    "        # It's a PIL image\n",
    "        buffered = io.BytesIO()\n",
    "        image_format = image_input.format or format\n",
    "        image_input.save(buffered, format=image_format)\n",
    "        encoded_string = base64.b64encode(buffered.getvalue()).decode(\"utf-8\")\n",
    "    else:\n",
    "        raise TypeError(\"image_input must be a file path (str) or a PIL.Image.Image instance.\")\n",
    "    return encoded_string"
   ]
  },
  {
   "cell_type": "code",
   "execution_count": 62,
   "id": "328a43bd-5fd3-4702-b251-08f7456cdd99",
   "metadata": {},
   "outputs": [],
   "source": [
    "def query_openai_vision(client, image, prompt, model=\"gpt-4o\", max_tokens=100):\n",
    "    base_64_image= encode_image_to_base64(image)\n",
    "    try:\n",
    "        messages = [{\n",
    "            \"role\": \"user\",\n",
    "            \"content\": [\n",
    "                {\"type\": \"text\", \"text\": prompt},\n",
    "                {\n",
    "                    \"type\": \"image_url\",\n",
    "                    \"image_url\": {\n",
    "                        \"url\": f\"data:image/jpeg;base64,{base_64_image}\"\n",
    "                    }\n",
    "                }\n",
    "            ]\n",
    "        }]\n",
    "    except Exception:\n",
    "        return \"Error\"\n",
    "    \n",
    "\n",
    "\n",
    "    response = client.chat.completions.create(\n",
    "        model=model,\n",
    "        messages=messages,\n",
    "        max_tokens=max_tokens\n",
    "    )\n",
    "\n",
    "    return response.choices[0].message.content"
   ]
  },
  {
   "cell_type": "code",
   "execution_count": 63,
   "id": "faf2469f-d85f-404a-85d3-fb91fc22b97a",
   "metadata": {},
   "outputs": [
    {
     "name": "stdout",
     "output_type": "stream",
     "text": [
      "\n",
      "Context: You are a world-class nutritionist and food analysis AI. Your expertise is in visually recognizing foods from images and estimating their nutritional information, especially calorie content.\n",
      "Instruction: Given an image of a dish, carefully analyze the visual features\n",
      "Input:[the image i am about to share]\n",
      "Output: Provide the name of the food, a brief description of what you see and nutritional profile.\n",
      "\n"
     ]
    }
   ],
   "source": [
    "food_prompt = \"\"\"\n",
    "Context: You are a world-class nutritionist and food analysis AI. Your expertise is in visually recognizing foods from images and estimating their nutritional information, especially calorie content.\n",
    "Instruction: Given an image of a dish, carefully analyze the visual features\n",
    "Input:[the image i am about to share]\n",
    "Output: Provide the name of the food, a brief description of what you see and nutritional profile.\n",
    "\"\"\"\n",
    "print(food_prompt)"
   ]
  },
  {
   "cell_type": "code",
   "execution_count": 65,
   "id": "dba2e5b9-db53-43cc-ae5d-1888f9924872",
   "metadata": {},
   "outputs": [
    {
     "name": "stdout",
     "output_type": "stream",
     "text": [
      "**Food Name:** Grilled Salmon with Green Beans\n",
      "\n",
      "**Description:** \n",
      "The dish features a piece of grilled salmon, seasoned with herbs and spices, giving it a crispy exterior. Accompanied by a side of fresh green beans, likely steamed or sautéed, and a lemon wedge for added flavor.\n",
      "\n",
      "**Nutritional Profile:**\n",
      "\n",
      "- **Grilled Salmon (Approx. 6 oz):**\n",
      "  - Calories: ~367\n",
      "  - Protein: ~39g\n",
      "  - Fat:\n"
     ]
    }
   ],
   "source": [
    "query = query_openai_vision(\n",
    "    openai_client,\n",
    "    salmon_image,\n",
    "    food_prompt\n",
    ")\n",
    "print(query)"
   ]
  },
  {
   "cell_type": "code",
   "execution_count": 66,
   "id": "e8295373-bedb-4431-a312-21c96397fb19",
   "metadata": {},
   "outputs": [
    {
     "name": "stdout",
     "output_type": "stream",
     "text": [
      "```json\n",
      "{\n",
      "  \"dish_name\": \"Salmon with Green Beans\",\n",
      "  \"estimated_calories\": \"450\",\n",
      "  \"main_ingredients\": [\"salmon\", \"green beans\", \"lemon\", \"seasonings\"],\n",
      "  \"meal_type\": \"dinner\"\n",
      "}\n",
      "```\n"
     ]
    }
   ],
   "source": [
    "promt_2 = food_prompt = \"\"\"\n",
    "Context: \n",
    "You are a world-class nutritionist and food analysis AI. \n",
    "Your expertise is in visually recognizing foods from images and estimating their nutritional information, especially calorie content.\n",
    "\n",
    "Instruction:\n",
    "Given an image of a dish, carefully analyze the visual features to:\n",
    "- Identify the primary food item(s) in the image.\n",
    "- Estimate the approximate total calories of the dish.\n",
    "- Briefly list the likely main ingredients.\n",
    "- Classify the dish as breakfast, lunch, dinner, or snack if possible.\n",
    "\n",
    "If you are uncertain about the dish, mark fields as \"unknown\".\n",
    "\n",
    "Return your answer in the following JSON format:\n",
    "\n",
    "{\n",
    "  \"dish_name\": \"\",\n",
    "  \"estimated_calories\": \"\",\n",
    "  \"main_ingredients\": [],\n",
    "  \"meal_type\": \"\"\n",
    "}\n",
    "\n",
    "Input:\n",
    "<Food Image>\n",
    "\n",
    "Output:\n",
    "A structured JSON object as described above.\n",
    "\"\"\"\n",
    "\n",
    "query_2 = query_openai_vision(\n",
    "    openai_client,\n",
    "    salmon_image,\n",
    "    promt_2\n",
    ")\n",
    "print(query_2)"
   ]
  },
  {
   "cell_type": "code",
   "execution_count": null,
   "id": "ea9a96f3-72ec-4d2e-8dc6-f30fb144337b",
   "metadata": {},
   "outputs": [],
   "source": []
  }
 ],
 "metadata": {
  "kernelspec": {
   "display_name": "Python 3 (ipykernel)",
   "language": "python",
   "name": "python3"
  },
  "language_info": {
   "codemirror_mode": {
    "name": "ipython",
    "version": 3
   },
   "file_extension": ".py",
   "mimetype": "text/x-python",
   "name": "python",
   "nbconvert_exporter": "python",
   "pygments_lexer": "ipython3",
   "version": "3.13.5"
  }
 },
 "nbformat": 4,
 "nbformat_minor": 5
}
