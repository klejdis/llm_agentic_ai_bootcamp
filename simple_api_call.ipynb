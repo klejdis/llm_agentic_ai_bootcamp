{
 "cells": [
  {
   "cell_type": "code",
   "execution_count": 1,
   "id": "03c450e5-2e83-464f-bab2-d978c1a44739",
   "metadata": {},
   "outputs": [
    {
     "data": {
      "text/plain": [
       "True"
      ]
     },
     "execution_count": 1,
     "metadata": {},
     "output_type": "execute_result"
    }
   ],
   "source": [
    "import os\n",
    "from openai import OpenAI\n",
    "from dotenv import load_dotenv\n",
    "load_dotenv()\n"
   ]
  },
  {
   "cell_type": "code",
   "execution_count": 17,
   "id": "1c535d01-5e2c-4392-abff-32ace2bdda6a",
   "metadata": {},
   "outputs": [
    {
     "name": "stdout",
     "output_type": "stream",
     "text": [
      "**A Poem for Mum on Her 70th Anniversary**\n",
      "\n",
      "In the garden of life, where love blooms and grows,  \n",
      "Seventy years have passed, like a river that flows.  \n",
      "With each turning season, through sunshine and rain,  \n",
      "You’ve sown seeds of kindness, and joy from your pain.\n",
      "\n",
      "Your laughter, a melody, sweet and sincere,  \n",
      "Has echoed through decades, bringing us cheer.  \n",
      "With wisdom like mountains, so sturdy and grand,  \n",
      "You’ve guided us gently with a loving hand.\n",
      "\n",
      "From first steps you held us, to dreams that soared high,  \n",
      "You taught us to reach for the stars in the sky.  \n",
      "Your stories, like treasures, we gather and keep,  \n",
      "Each whisper of courage, a promise to leap.\n",
      "\n",
      "Through trials and triumphs, your spirit has shone,  \n",
      "A beacon of strength that we’ve all grown upon.  \n",
      "The warmth of your hugs, a safe haven found,  \n",
      "In the heart of our family, your love knows no bound.\n",
      "\n",
      "So here’s to you, Mum, on this special day,  \n",
      "For the love that you’ve given, in every way.  \n",
      "May the years still ahead bring you joy and delight,  \n",
      "Happy anniversary, Mum, you’re our guiding light.\n"
     ]
    }
   ],
   "source": [
    "openai_api_key = os.getenv(\"OPENAI_API_KEY\")\n",
    "openai_client = OpenAI(api_key=openai_api_key)\n",
    "query = \"white a poem for my mum for 70 aniversary\"\n",
    "response = openai_client.chat.completions.create(model=\"gpt-4o-mini\", messages=[{\"role\": \"user\", \"content\": query}])\n",
    "print(response.choices[0].message.content)"
   ]
  },
  {
   "cell_type": "code",
   "execution_count": null,
   "id": "c5652fa3-c404-4b47-8abb-9f89b5f9bc6f",
   "metadata": {},
   "outputs": [],
   "source": []
  },
  {
   "cell_type": "code",
   "execution_count": null,
   "id": "734901f2-eccd-404a-a663-e3045383dcb8",
   "metadata": {},
   "outputs": [],
   "source": []
  },
  {
   "cell_type": "code",
   "execution_count": null,
   "id": "5886e453-09a3-48aa-a410-57cafddc4400",
   "metadata": {},
   "outputs": [],
   "source": []
  }
 ],
 "metadata": {
  "kernelspec": {
   "display_name": "Python 3 (ipykernel)",
   "language": "python",
   "name": "python3"
  },
  "language_info": {
   "codemirror_mode": {
    "name": "ipython",
    "version": 3
   },
   "file_extension": ".py",
   "mimetype": "text/x-python",
   "name": "python",
   "nbconvert_exporter": "python",
   "pygments_lexer": "ipython3",
   "version": "3.13.5"
  }
 },
 "nbformat": 4,
 "nbformat_minor": 5
}
