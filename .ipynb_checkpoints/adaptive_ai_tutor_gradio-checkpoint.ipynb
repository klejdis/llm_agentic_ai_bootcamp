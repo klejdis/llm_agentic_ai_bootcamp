{
 "cells": [
  {
   "cell_type": "code",
   "execution_count": 1,
   "id": "efcd229d-646c-4727-8e34-98113706ebc8",
   "metadata": {},
   "outputs": [],
   "source": [
    "from openai import OpenAI\n",
    "import os\n",
    "import io\n",
    "import base64\n",
    "from dotenv import load_dotenv\n",
    "load_dotenv()\n",
    "openai_api_key = os.getenv(\"OPENAI_API_KEY\")\n",
    "openai_client = OpenAI(api_key=openai_api_key)"
   ]
  },
  {
   "cell_type": "code",
   "execution_count": 8,
   "id": "f86e5d19-d023-4931-8e7a-a002682317cb",
   "metadata": {},
   "outputs": [],
   "source": [
    "def query_ai_tutor(question):\n",
    "\n",
    "    try:\n",
    "        system_promt = \"You are a AI tutor, explain the best and shortest possible answer\"\n",
    "    \n",
    "        response = openai_client.chat.completions.create(\n",
    "            model= \"gpt-4o-mini\",\n",
    "            messages=[{\"role\": \"system\", \"content\": system_promt }, {\"role\": \"user\", \"content\": question }],\n",
    "            temperature= 0.7\n",
    "        )\n",
    "    \n",
    "        ai_response = response.choices[0].message.content\n",
    "        return ai_response\n",
    "    except Exception as e:\n",
    "        print(f\"error {e}\")\n",
    "        return f\"error {e}\"\n",
    "    "
   ]
  },
  {
   "cell_type": "code",
   "execution_count": 9,
   "id": "7e3e78f7-9a5a-48fc-b3a4-6877af0bb0d9",
   "metadata": {},
   "outputs": [
    {
     "name": "stdout",
     "output_type": "stream",
     "text": [
      "In Python, the `//` operator is used for floor division. It divides two numbers and returns the largest whole number (integer) that is less than or equal to the result of the division.\n",
      "\n",
      "For example:\n",
      "```python\n",
      "result = 7 // 2  # result will be 3\n",
      "```\n",
      "\n",
      "In this case, 7 divided by 2 is 3.5, and the floor division rounds it down to 3.\n"
     ]
    }
   ],
   "source": [
    "user_question = \"explain python // operator\"\n",
    "print(query_ai_tutor(user_question))"
   ]
  },
  {
   "cell_type": "code",
   "execution_count": null,
   "id": "c4d7eaee-7144-44d4-998b-a64512d9506e",
   "metadata": {},
   "outputs": [],
   "source": []
  }
 ],
 "metadata": {
  "kernelspec": {
   "display_name": "Python 3 (ipykernel)",
   "language": "python",
   "name": "python3"
  },
  "language_info": {
   "codemirror_mode": {
    "name": "ipython",
    "version": 3
   },
   "file_extension": ".py",
   "mimetype": "text/x-python",
   "name": "python",
   "nbconvert_exporter": "python",
   "pygments_lexer": "ipython3",
   "version": "3.13.5"
  }
 },
 "nbformat": 4,
 "nbformat_minor": 5
}
